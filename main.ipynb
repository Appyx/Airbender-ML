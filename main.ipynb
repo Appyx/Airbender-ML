{
 "cells": [
  {
   "cell_type": "markdown",
   "metadata": {
    "collapsed": true
   },
   "source": [
    "# Airbender"
   ]
  },
  {
   "cell_type": "code",
   "execution_count": 3,
   "metadata": {},
   "outputs": [],
   "source": [
    "# conda install pandas\n",
    "# conda install matplotlib\n",
    "# conda install -c derickl coremltools\n",
    "import pandas as pd\n",
    "import numpy as np"
   ]
  },
  {
   "cell_type": "code",
   "execution_count": 245,
   "metadata": {},
   "outputs": [],
   "source": [
    "names = [str(x) for x in range(1,101)]\n",
    "names.insert(0,\"Gesture\")\n",
    "names.insert(0,\"Participant\")\n",
    "\n",
    "acc_x = pd.read_csv(\"data_resampled/acc_x.csv\", sep=\";\", names = names).dropna()\n",
    "acc_y = pd.read_csv(\"data_resampled/acc_y.csv\", sep=\";\", names = names).dropna()\n",
    "acc_z = pd.read_csv(\"data_resampled/acc_z.csv\", sep=\";\", names = names).dropna()\n",
    "gyr_x = pd.read_csv(\"data_resampled/gyr_x.csv\", sep=\";\", names = names).dropna()\n",
    "gyr_y = pd.read_csv(\"data_resampled/gyr_y.csv\", sep=\";\", names = names).dropna()\n",
    "gyr_z = pd.read_csv(\"data_resampled/gyr_z.csv\", sep=\";\", names = names).dropna()"
   ]
  },
  {
   "cell_type": "code",
   "execution_count": 246,
   "metadata": {},
   "outputs": [
    {
     "data": {
      "text/plain": [
       "(221, 102)"
      ]
     },
     "execution_count": 246,
     "metadata": {},
     "output_type": "execute_result"
    }
   ],
   "source": [
    "acc_x.shape"
   ]
  },
  {
   "cell_type": "code",
   "execution_count": 247,
   "metadata": {},
   "outputs": [
    {
     "data": {
      "text/html": [
       "<div>\n",
       "<style scoped>\n",
       "    .dataframe tbody tr th:only-of-type {\n",
       "        vertical-align: middle;\n",
       "    }\n",
       "\n",
       "    .dataframe tbody tr th {\n",
       "        vertical-align: top;\n",
       "    }\n",
       "\n",
       "    .dataframe thead th {\n",
       "        text-align: right;\n",
       "    }\n",
       "</style>\n",
       "<table border=\"1\" class=\"dataframe\">\n",
       "  <thead>\n",
       "    <tr style=\"text-align: right;\">\n",
       "      <th></th>\n",
       "      <th>Participant</th>\n",
       "      <th>Gesture</th>\n",
       "      <th>1</th>\n",
       "      <th>2</th>\n",
       "      <th>3</th>\n",
       "      <th>4</th>\n",
       "      <th>5</th>\n",
       "      <th>6</th>\n",
       "      <th>7</th>\n",
       "      <th>8</th>\n",
       "      <th>...</th>\n",
       "      <th>91</th>\n",
       "      <th>92</th>\n",
       "      <th>93</th>\n",
       "      <th>94</th>\n",
       "      <th>95</th>\n",
       "      <th>96</th>\n",
       "      <th>97</th>\n",
       "      <th>98</th>\n",
       "      <th>99</th>\n",
       "      <th>100</th>\n",
       "    </tr>\n",
       "  </thead>\n",
       "  <tbody>\n",
       "    <tr>\n",
       "      <th>0</th>\n",
       "      <td>Gix1</td>\n",
       "      <td>0</td>\n",
       "      <td>0.006969</td>\n",
       "      <td>0.000848</td>\n",
       "      <td>-0.000720</td>\n",
       "      <td>-0.009030</td>\n",
       "      <td>-0.004277</td>\n",
       "      <td>0.000759</td>\n",
       "      <td>0.002966</td>\n",
       "      <td>-0.000850</td>\n",
       "      <td>...</td>\n",
       "      <td>0.001368</td>\n",
       "      <td>-0.000564</td>\n",
       "      <td>-0.001737</td>\n",
       "      <td>-0.001106</td>\n",
       "      <td>-0.006170</td>\n",
       "      <td>-0.005773</td>\n",
       "      <td>-0.002984</td>\n",
       "      <td>0.000482</td>\n",
       "      <td>0.002133</td>\n",
       "      <td>0.002793</td>\n",
       "    </tr>\n",
       "    <tr>\n",
       "      <th>1</th>\n",
       "      <td>Gix1</td>\n",
       "      <td>1</td>\n",
       "      <td>-0.009553</td>\n",
       "      <td>-0.011066</td>\n",
       "      <td>-0.004418</td>\n",
       "      <td>-0.003037</td>\n",
       "      <td>-0.002963</td>\n",
       "      <td>-0.007740</td>\n",
       "      <td>-0.004091</td>\n",
       "      <td>-0.004082</td>\n",
       "      <td>...</td>\n",
       "      <td>-0.002965</td>\n",
       "      <td>-0.005508</td>\n",
       "      <td>-0.006514</td>\n",
       "      <td>-0.011621</td>\n",
       "      <td>-0.011665</td>\n",
       "      <td>-0.010188</td>\n",
       "      <td>-0.003994</td>\n",
       "      <td>0.007893</td>\n",
       "      <td>0.011737</td>\n",
       "      <td>0.008740</td>\n",
       "    </tr>\n",
       "    <tr>\n",
       "      <th>2</th>\n",
       "      <td>Gix1</td>\n",
       "      <td>2</td>\n",
       "      <td>-0.005957</td>\n",
       "      <td>-0.010512</td>\n",
       "      <td>-0.020735</td>\n",
       "      <td>-0.043233</td>\n",
       "      <td>-0.049574</td>\n",
       "      <td>-0.041784</td>\n",
       "      <td>0.066144</td>\n",
       "      <td>0.179850</td>\n",
       "      <td>...</td>\n",
       "      <td>0.023357</td>\n",
       "      <td>0.025490</td>\n",
       "      <td>0.021612</td>\n",
       "      <td>0.010510</td>\n",
       "      <td>0.003288</td>\n",
       "      <td>0.009596</td>\n",
       "      <td>0.001628</td>\n",
       "      <td>0.008208</td>\n",
       "      <td>0.002435</td>\n",
       "      <td>-0.012939</td>\n",
       "    </tr>\n",
       "    <tr>\n",
       "      <th>3</th>\n",
       "      <td>Gix1</td>\n",
       "      <td>3</td>\n",
       "      <td>-0.006112</td>\n",
       "      <td>0.001685</td>\n",
       "      <td>-0.009567</td>\n",
       "      <td>-0.002749</td>\n",
       "      <td>-0.003493</td>\n",
       "      <td>0.003675</td>\n",
       "      <td>0.016477</td>\n",
       "      <td>-0.004954</td>\n",
       "      <td>...</td>\n",
       "      <td>0.053803</td>\n",
       "      <td>0.054990</td>\n",
       "      <td>0.045988</td>\n",
       "      <td>0.042890</td>\n",
       "      <td>0.037902</td>\n",
       "      <td>0.049565</td>\n",
       "      <td>0.051274</td>\n",
       "      <td>0.053112</td>\n",
       "      <td>0.066124</td>\n",
       "      <td>0.039360</td>\n",
       "    </tr>\n",
       "    <tr>\n",
       "      <th>4</th>\n",
       "      <td>Gix1</td>\n",
       "      <td>4</td>\n",
       "      <td>-0.002025</td>\n",
       "      <td>-0.008841</td>\n",
       "      <td>-0.012501</td>\n",
       "      <td>-0.006683</td>\n",
       "      <td>-0.005849</td>\n",
       "      <td>-0.003792</td>\n",
       "      <td>-0.009695</td>\n",
       "      <td>0.004547</td>\n",
       "      <td>...</td>\n",
       "      <td>0.030336</td>\n",
       "      <td>0.034947</td>\n",
       "      <td>0.042776</td>\n",
       "      <td>0.055322</td>\n",
       "      <td>0.058870</td>\n",
       "      <td>0.040724</td>\n",
       "      <td>0.013058</td>\n",
       "      <td>-0.011792</td>\n",
       "      <td>-0.025957</td>\n",
       "      <td>-0.041154</td>\n",
       "    </tr>\n",
       "  </tbody>\n",
       "</table>\n",
       "<p>5 rows × 102 columns</p>\n",
       "</div>"
      ],
      "text/plain": [
       "  Participant  Gesture         1         2         3         4         5  \\\n",
       "0        Gix1        0  0.006969  0.000848 -0.000720 -0.009030 -0.004277   \n",
       "1        Gix1        1 -0.009553 -0.011066 -0.004418 -0.003037 -0.002963   \n",
       "2        Gix1        2 -0.005957 -0.010512 -0.020735 -0.043233 -0.049574   \n",
       "3        Gix1        3 -0.006112  0.001685 -0.009567 -0.002749 -0.003493   \n",
       "4        Gix1        4 -0.002025 -0.008841 -0.012501 -0.006683 -0.005849   \n",
       "\n",
       "          6         7         8    ...           91        92        93  \\\n",
       "0  0.000759  0.002966 -0.000850    ...     0.001368 -0.000564 -0.001737   \n",
       "1 -0.007740 -0.004091 -0.004082    ...    -0.002965 -0.005508 -0.006514   \n",
       "2 -0.041784  0.066144  0.179850    ...     0.023357  0.025490  0.021612   \n",
       "3  0.003675  0.016477 -0.004954    ...     0.053803  0.054990  0.045988   \n",
       "4 -0.003792 -0.009695  0.004547    ...     0.030336  0.034947  0.042776   \n",
       "\n",
       "         94        95        96        97        98        99       100  \n",
       "0 -0.001106 -0.006170 -0.005773 -0.002984  0.000482  0.002133  0.002793  \n",
       "1 -0.011621 -0.011665 -0.010188 -0.003994  0.007893  0.011737  0.008740  \n",
       "2  0.010510  0.003288  0.009596  0.001628  0.008208  0.002435 -0.012939  \n",
       "3  0.042890  0.037902  0.049565  0.051274  0.053112  0.066124  0.039360  \n",
       "4  0.055322  0.058870  0.040724  0.013058 -0.011792 -0.025957 -0.041154  \n",
       "\n",
       "[5 rows x 102 columns]"
      ]
     },
     "execution_count": 247,
     "metadata": {},
     "output_type": "execute_result"
    }
   ],
   "source": [
    "acc_x.head()"
   ]
  },
  {
   "cell_type": "code",
   "execution_count": 248,
   "metadata": {},
   "outputs": [],
   "source": [
    "import matplotlib.pyplot as plt"
   ]
  },
  {
   "cell_type": "markdown",
   "metadata": {},
   "source": [
    "### Plot some info about data"
   ]
  },
  {
   "cell_type": "code",
   "execution_count": 249,
   "metadata": {},
   "outputs": [],
   "source": [
    "names = ['Participant', 'Gesture']\n",
    "data_x = acc_x.values[:, ~acc_x.columns.isin(names)]\n",
    "plot_data = data_x[0].astype(np.float32, copy=False)\n",
    "plot_data = plot_data[~pd.isnull(plot_data)]"
   ]
  },
  {
   "cell_type": "code",
   "execution_count": 250,
   "metadata": {},
   "outputs": [
    {
     "data": {
      "image/png": "[encoded data removed]",
      "text/plain": [
       "<Figure size 432x288 with 1 Axes>"
      ]
     },
     "metadata": {
      "needs_background": "light"
     },
     "output_type": "display_data"
    }
   ],
   "source": [
    "plt.plot(plot_data)\n",
    "plt.title('Acceleration of gesture on x axis')\n",
    "\n",
    "plt.xlabel('acceleration (m/s²)')\n",
    "plt.ylabel('duration (ms)')\n",
    "plt.grid(True)"
   ]
  },
  {
   "cell_type": "markdown",
   "metadata": {},
   "source": [
    "### FFT"
   ]
  },
  {
   "cell_type": "code",
   "execution_count": 251,
   "metadata": {},
   "outputs": [],
   "source": [
    "fft_data = np.fft.fft(plot_data)"
   ]
  },
  {
   "cell_type": "code",
   "execution_count": 252,
   "metadata": {},
   "outputs": [],
   "source": [
    "n = plot_data.size\n",
    "timestep = 0.02\n",
    "freq = np.fft.fftfreq(n, d=timestep)\n",
    "magnitude = np.sqrt(fft_data.real**2 + fft_data.imag**2)"
   ]
  },
  {
   "cell_type": "code",
   "execution_count": 253,
   "metadata": {},
   "outputs": [
    {
     "data": {
      "image/png": "[encoded data removed]",
      "text/plain": [
       "<Figure size 432x288 with 1 Axes>"
      ]
     },
     "metadata": {
      "needs_background": "light"
     },
     "output_type": "display_data"
    }
   ],
   "source": [
    "plt.plot(freq, magnitude)\n",
    "plt.title('Magnitude')\n",
    "\n",
    "plt.xlabel('Hz')\n",
    "plt.ylabel('amplitude')\n",
    "plt.grid(True)"
   ]
  },
  {
   "cell_type": "markdown",
   "metadata": {},
   "source": [
    "### Train model"
   ]
  },
  {
   "cell_type": "code",
   "execution_count": 257,
   "metadata": {},
   "outputs": [],
   "source": [
    "X = acc_x.iloc[:, 2:102].values\n",
    "y = acc_x.iloc[:, 1].values\n",
    "\n",
    "# Splitting the dataset into the Training set and Test set\n",
    "from sklearn.model_selection import train_test_split\n",
    "X_train, X_test, y_train, y_test = train_test_split(X, y, test_size = 0.1, random_state = 0)\n",
    " \n",
    "# Feature Scaling\n",
    "from sklearn.preprocessing import StandardScaler\n",
    "sc = StandardScaler()\n",
    "X_train = sc.fit_transform(X_train)\n",
    "X_test = sc.transform(X_test)"
   ]
  },
  {
   "cell_type": "code",
   "execution_count": 285,
   "metadata": {},
   "outputs": [
    {
     "data": {
      "text/plain": [
       "RandomForestClassifier(bootstrap=True, class_weight=None, criterion='gini',\n",
       "            max_depth=2, max_features='auto', max_leaf_nodes=None,\n",
       "            min_impurity_decrease=0.0, min_impurity_split=None,\n",
       "            min_samples_leaf=1, min_samples_split=2,\n",
       "            min_weight_fraction_leaf=0.0, n_estimators=100, n_jobs=None,\n",
       "            oob_score=False, random_state=0, verbose=0, warm_start=False)"
      ]
     },
     "execution_count": 285,
     "metadata": {},
     "output_type": "execute_result"
    }
   ],
   "source": [
    "### LDA\n",
    "from sklearn.discriminant_analysis import LinearDiscriminantAnalysis\n",
    "\n",
    "clf = LinearDiscriminantAnalysis()\n",
    "clf.fit(X_train, y_train)\n",
    "\n",
    "### Random Forest\n",
    "from sklearn.ensemble import RandomForestClassifier\n",
    "clf_rf = RandomForestClassifier(n_estimators=100, max_depth=2, random_state=0)\n",
    "clf_rf.fit(X_train, y_train)"
   ]
  },
  {
   "cell_type": "markdown",
   "metadata": {},
   "source": [
    "### Test model"
   ]
  },
  {
   "cell_type": "code",
   "execution_count": 286,
   "metadata": {},
   "outputs": [],
   "source": [
    "### LDA\n",
    "predicted_y = clf.predict(X_test)\n",
    "\n",
    "### Random Forest\n",
    "rf_predicted_y = clf_rf.predict(X_test)"
   ]
  },
  {
   "cell_type": "code",
   "execution_count": 289,
   "metadata": {},
   "outputs": [],
   "source": [
    "from sklearn.metrics import confusion_matrix\n",
    "\n",
    "### LDA\n",
    "cm = confusion_matrix(y_test, predicted_y)\n",
    "\n",
    "### Random Forest\n",
    "rf_cm = confusion_matrix(y_test, rf_predicted_y)"
   ]
  },
  {
   "cell_type": "code",
   "execution_count": 290,
   "metadata": {},
   "outputs": [
    {
     "data": {
      "image/png": "[encoded data removed]",
      "text/plain": [
       "<Figure size 432x288 with 2 Axes>"
      ]
     },
     "metadata": {
      "needs_background": "light"
     },
     "output_type": "display_data"
    }
   ],
   "source": [
    "classes = [0,1,2,3,4,5,6,7,8,9,10,11,12]\n",
    "\n",
    "### LDA\n",
    "plt.imshow(cm, interpolation='nearest', cmap=plt.cm.Blues)\n",
    "plt.title(\"Confusion Matrix LDA\")\n",
    "plt.colorbar()\n",
    "tick_marks = np.arange(len(classes))\n",
    "plt.xticks(tick_marks, classes, rotation=45)\n",
    "plt.yticks(tick_marks, classes)\n",
    "\n",
    "plt.ylabel('True label')\n",
    "plt.xlabel('Predicted label')\n",
    "plt.tight_layout()"
   ]
  },
  {
   "cell_type": "code",
   "execution_count": 291,
   "metadata": {},
   "outputs": [
    {
     "data": {
      "image/png": "[encoded data removed]",
      "text/plain": [
       "<Figure size 432x288 with 2 Axes>"
      ]
     },
     "metadata": {
      "needs_background": "light"
     },
     "output_type": "display_data"
    }
   ],
   "source": [
    "classes = [0,1,2,3,4,5,6,7,8,9,10,11,12]\n",
    "\n",
    "### Random Forest\n",
    "plt.imshow(rf_cm, interpolation='nearest', cmap=plt.cm.Blues)\n",
    "plt.title(\"Confusion Matrix LDA\")\n",
    "plt.colorbar()\n",
    "tick_marks = np.arange(len(classes))\n",
    "plt.xticks(tick_marks, classes, rotation=45)\n",
    "plt.yticks(tick_marks, classes)\n",
    "\n",
    "plt.ylabel('True label')\n",
    "plt.xlabel('Predicted label')\n",
    "plt.tight_layout()"
   ]
  },
  {
   "cell_type": "markdown",
   "metadata": {},
   "source": [
    "### Save Model"
   ]
  },
  {
   "cell_type": "code",
   "execution_count": 292,
   "metadata": {},
   "outputs": [],
   "source": [
    "import pickle\n",
    "filename = 'randomForest.model'\n",
    "pickle.dump(clf_rf, open(filename, 'wb'))"
   ]
  },
  {
   "cell_type": "code",
   "execution_count": null,
   "metadata": {},
   "outputs": [],
   "source": []
  }
 ],
 "metadata": {
  "kernelspec": {
   "display_name": "Python 3",
   "language": "python",
   "name": "python3"
  },
  "language_info": {
   "codemirror_mode": {
    "name": "ipython",
    "version": 3
   },
   "file_extension": ".py",
   "mimetype": "text/x-python",
   "name": "python",
   "nbconvert_exporter": "python",
   "pygments_lexer": "ipython3",
   "version": "3.6.7"
  }
 },
 "nbformat": 4,
 "nbformat_minor": 1
}
