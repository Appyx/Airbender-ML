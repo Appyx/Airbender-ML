{
 "cells": [
  {
   "cell_type": "markdown",
   "metadata": {
    "collapsed": true
   },
   "source": [
    "# Airbender"
   ]
  },
  {
   "cell_type": "code",
   "execution_count": 25,
   "metadata": {},
   "outputs": [],
   "source": [
    "# conda install pandas\n",
    "# conda install matplotlib\n",
    "# conda install -c derickl coremltools\n",
    "import pandas as pd\n",
    "import numpy as np\n",
    "import glob"
   ]
  },
  {
   "cell_type": "code",
   "execution_count": 26,
   "metadata": {},
   "outputs": [],
   "source": [
    "acc_names = [\"acc\" + str(x) for x in range(1, 51)]\n",
    "acc_names.insert(0, \"Gesture\")\n",
    "acc_names.insert(0, \"Participant\")\n",
    "data_names = [\"acc_x\",\"acc_y\",\"acc_z\",\"gyr_x\",\"gyr_y\",\"gyr_z\"]\n",
    "\n",
    "all_files = glob.glob(\"./data_resampled_50/*.csv\")\n",
    "\n",
    "class_names = [\"Gesture\", \"Participant\"]\n",
    "classes = range(0,12)\n",
    "\n",
    "data = []\n",
    "\n",
    "for file in all_files:\n",
    "    df = pd.read_csv(file, sep=\";\", names=acc_names).dropna()\n",
    "    data.append(df)"
   ]
  },
  {
   "cell_type": "code",
   "execution_count": 27,
   "metadata": {},
   "outputs": [
    {
     "data": {
      "text/plain": [
       "(600, 52)"
      ]
     },
     "execution_count": 27,
     "metadata": {},
     "output_type": "execute_result"
    }
   ],
   "source": [
    "data[0].shape"
   ]
  },
  {
   "cell_type": "code",
   "execution_count": 28,
   "metadata": {},
   "outputs": [
    {
     "data": {
      "text/html": [
       "<div>\n",
       "<style scoped>\n",
       "    .dataframe tbody tr th:only-of-type {\n",
       "        vertical-align: middle;\n",
       "    }\n",
       "\n",
       "    .dataframe tbody tr th {\n",
       "        vertical-align: top;\n",
       "    }\n",
       "\n",
       "    .dataframe thead th {\n",
       "        text-align: right;\n",
       "    }\n",
       "</style>\n",
       "<table border=\"1\" class=\"dataframe\">\n",
       "  <thead>\n",
       "    <tr style=\"text-align: right;\">\n",
       "      <th></th>\n",
       "      <th>Participant</th>\n",
       "      <th>Gesture</th>\n",
       "      <th>acc1</th>\n",
       "      <th>acc2</th>\n",
       "      <th>acc3</th>\n",
       "      <th>acc4</th>\n",
       "      <th>acc5</th>\n",
       "      <th>acc6</th>\n",
       "      <th>acc7</th>\n",
       "      <th>acc8</th>\n",
       "      <th>...</th>\n",
       "      <th>acc41</th>\n",
       "      <th>acc42</th>\n",
       "      <th>acc43</th>\n",
       "      <th>acc44</th>\n",
       "      <th>acc45</th>\n",
       "      <th>acc46</th>\n",
       "      <th>acc47</th>\n",
       "      <th>acc48</th>\n",
       "      <th>acc49</th>\n",
       "      <th>acc50</th>\n",
       "    </tr>\n",
       "  </thead>\n",
       "  <tbody>\n",
       "    <tr>\n",
       "      <th>0</th>\n",
       "      <td>bobs1</td>\n",
       "      <td>0</td>\n",
       "      <td>-0.059865</td>\n",
       "      <td>-0.069397</td>\n",
       "      <td>-0.037380</td>\n",
       "      <td>-0.012355</td>\n",
       "      <td>0.001150</td>\n",
       "      <td>-0.018286</td>\n",
       "      <td>-0.033317</td>\n",
       "      <td>-0.029248</td>\n",
       "      <td>...</td>\n",
       "      <td>-0.000221</td>\n",
       "      <td>-0.008255</td>\n",
       "      <td>-0.006038</td>\n",
       "      <td>-0.001672</td>\n",
       "      <td>-0.007495</td>\n",
       "      <td>0.000963</td>\n",
       "      <td>-0.011782</td>\n",
       "      <td>-0.013143</td>\n",
       "      <td>-0.117768</td>\n",
       "      <td>0.001530</td>\n",
       "    </tr>\n",
       "    <tr>\n",
       "      <th>1</th>\n",
       "      <td>bobs1</td>\n",
       "      <td>1</td>\n",
       "      <td>-0.013313</td>\n",
       "      <td>-0.005151</td>\n",
       "      <td>-0.008571</td>\n",
       "      <td>-0.010444</td>\n",
       "      <td>-0.022486</td>\n",
       "      <td>-0.010592</td>\n",
       "      <td>0.019433</td>\n",
       "      <td>0.029569</td>\n",
       "      <td>...</td>\n",
       "      <td>0.010821</td>\n",
       "      <td>0.007335</td>\n",
       "      <td>0.004965</td>\n",
       "      <td>-0.000504</td>\n",
       "      <td>-0.001840</td>\n",
       "      <td>-0.004827</td>\n",
       "      <td>-0.004163</td>\n",
       "      <td>-0.001818</td>\n",
       "      <td>0.005122</td>\n",
       "      <td>0.002972</td>\n",
       "    </tr>\n",
       "    <tr>\n",
       "      <th>2</th>\n",
       "      <td>bobs1</td>\n",
       "      <td>2</td>\n",
       "      <td>0.019373</td>\n",
       "      <td>-0.019052</td>\n",
       "      <td>0.001603</td>\n",
       "      <td>-0.002592</td>\n",
       "      <td>0.001626</td>\n",
       "      <td>-0.020513</td>\n",
       "      <td>-0.066254</td>\n",
       "      <td>-0.029167</td>\n",
       "      <td>...</td>\n",
       "      <td>0.002932</td>\n",
       "      <td>0.003382</td>\n",
       "      <td>-0.002632</td>\n",
       "      <td>-0.004869</td>\n",
       "      <td>-0.017792</td>\n",
       "      <td>-0.001028</td>\n",
       "      <td>-0.012888</td>\n",
       "      <td>0.005177</td>\n",
       "      <td>-0.011054</td>\n",
       "      <td>-0.347110</td>\n",
       "    </tr>\n",
       "    <tr>\n",
       "      <th>3</th>\n",
       "      <td>bobs1</td>\n",
       "      <td>3</td>\n",
       "      <td>-0.005394</td>\n",
       "      <td>0.006832</td>\n",
       "      <td>0.057838</td>\n",
       "      <td>0.399088</td>\n",
       "      <td>0.422796</td>\n",
       "      <td>0.232613</td>\n",
       "      <td>-0.116611</td>\n",
       "      <td>-0.279797</td>\n",
       "      <td>...</td>\n",
       "      <td>-0.059534</td>\n",
       "      <td>0.084551</td>\n",
       "      <td>-0.005322</td>\n",
       "      <td>-0.057228</td>\n",
       "      <td>-0.054312</td>\n",
       "      <td>-0.039944</td>\n",
       "      <td>-0.052329</td>\n",
       "      <td>-0.049464</td>\n",
       "      <td>-0.030054</td>\n",
       "      <td>0.149331</td>\n",
       "    </tr>\n",
       "    <tr>\n",
       "      <th>4</th>\n",
       "      <td>bobs1</td>\n",
       "      <td>4</td>\n",
       "      <td>0.016960</td>\n",
       "      <td>0.003094</td>\n",
       "      <td>0.006899</td>\n",
       "      <td>0.007311</td>\n",
       "      <td>-0.021284</td>\n",
       "      <td>0.004319</td>\n",
       "      <td>0.051683</td>\n",
       "      <td>0.123159</td>\n",
       "      <td>...</td>\n",
       "      <td>-0.103017</td>\n",
       "      <td>-0.075641</td>\n",
       "      <td>-0.115577</td>\n",
       "      <td>-0.103518</td>\n",
       "      <td>-0.099656</td>\n",
       "      <td>-0.076318</td>\n",
       "      <td>-0.073939</td>\n",
       "      <td>-0.029251</td>\n",
       "      <td>-0.100809</td>\n",
       "      <td>0.037867</td>\n",
       "    </tr>\n",
       "  </tbody>\n",
       "</table>\n",
       "<p>5 rows × 52 columns</p>\n",
       "</div>"
      ],
      "text/plain": [
       "  Participant  Gesture      acc1      acc2      acc3      acc4      acc5  \\\n",
       "0       bobs1        0 -0.059865 -0.069397 -0.037380 -0.012355  0.001150   \n",
       "1       bobs1        1 -0.013313 -0.005151 -0.008571 -0.010444 -0.022486   \n",
       "2       bobs1        2  0.019373 -0.019052  0.001603 -0.002592  0.001626   \n",
       "3       bobs1        3 -0.005394  0.006832  0.057838  0.399088  0.422796   \n",
       "4       bobs1        4  0.016960  0.003094  0.006899  0.007311 -0.021284   \n",
       "\n",
       "       acc6      acc7      acc8    ...        acc41     acc42     acc43  \\\n",
       "0 -0.018286 -0.033317 -0.029248    ...    -0.000221 -0.008255 -0.006038   \n",
       "1 -0.010592  0.019433  0.029569    ...     0.010821  0.007335  0.004965   \n",
       "2 -0.020513 -0.066254 -0.029167    ...     0.002932  0.003382 -0.002632   \n",
       "3  0.232613 -0.116611 -0.279797    ...    -0.059534  0.084551 -0.005322   \n",
       "4  0.004319  0.051683  0.123159    ...    -0.103017 -0.075641 -0.115577   \n",
       "\n",
       "      acc44     acc45     acc46     acc47     acc48     acc49     acc50  \n",
       "0 -0.001672 -0.007495  0.000963 -0.011782 -0.013143 -0.117768  0.001530  \n",
       "1 -0.000504 -0.001840 -0.004827 -0.004163 -0.001818  0.005122  0.002972  \n",
       "2 -0.004869 -0.017792 -0.001028 -0.012888  0.005177 -0.011054 -0.347110  \n",
       "3 -0.057228 -0.054312 -0.039944 -0.052329 -0.049464 -0.030054  0.149331  \n",
       "4 -0.103518 -0.099656 -0.076318 -0.073939 -0.029251 -0.100809  0.037867  \n",
       "\n",
       "[5 rows x 52 columns]"
      ]
     },
     "execution_count": 28,
     "metadata": {},
     "output_type": "execute_result"
    }
   ],
   "source": [
    "data[0].head()"
   ]
  },
  {
   "cell_type": "code",
   "execution_count": 29,
   "metadata": {},
   "outputs": [],
   "source": [
    "import matplotlib.pyplot as plt"
   ]
  },
  {
   "cell_type": "markdown",
   "metadata": {},
   "source": [
    "### Plot some info about data"
   ]
  },
  {
   "cell_type": "code",
   "execution_count": 30,
   "metadata": {},
   "outputs": [],
   "source": [
    "data_x = data[0].values[:, ~data[0].columns.isin(class_names)]\n",
    "plot_data = data_x[13].astype(np.float32, copy=False)"
   ]
  },
  {
   "cell_type": "code",
   "execution_count": 31,
   "metadata": {},
   "outputs": [],
   "source": [
    "plot_data_rot2 = data[3].loc[data[1][\"Gesture\"] == 1, :].iloc[5,2:52].values\n",
    "plot_data_rot2 = plot_data_rot2.astype(np.float32, copy=False)"
   ]
  },
  {
   "cell_type": "code",
   "execution_count": 32,
   "metadata": {},
   "outputs": [
    {
     "data": {
      "image/png": "[encoded data removed]",
      "text/plain": [
       "<Figure size 432x288 with 1 Axes>"
      ]
     },
     "metadata": {
      "needs_background": "light"
     },
     "output_type": "display_data"
    }
   ],
   "source": [
    "plt.plot(plot_data_rot2)\n",
    "plt.title('Angular velocity of double rotation gesture on x axis')\n",
    "\n",
    "plt.ylabel('angular velocity (deg/s)')\n",
    "plt.xlabel('duration (ms)')\n",
    "\n",
    "plt.grid(True)\n",
    "plt.savefig('ang_x_double_rot.png')"
   ]
  },
  {
   "cell_type": "markdown",
   "metadata": {},
   "source": [
    "## Features"
   ]
  },
  {
   "cell_type": "code",
   "execution_count": 33,
   "metadata": {},
   "outputs": [],
   "source": [
    "features = pd.DataFrame()"
   ]
  },
  {
   "cell_type": "markdown",
   "metadata": {},
   "source": [
    "### Time Domain"
   ]
  },
  {
   "cell_type": "code",
   "execution_count": 34,
   "metadata": {},
   "outputs": [],
   "source": [
    "def get_time_feature(data, func):\n",
    "    temp_feature = pd.DataFrame()\n",
    "    count=0\n",
    "    for frame in data:\n",
    "        mean_df = pd.DataFrame(frame.iloc[:,2:].apply(func, axis=1), columns=[data_names[count] + \"_\" + func.__name__])\n",
    "        temp_feature = pd.concat([temp_feature, mean_df], axis=1, sort=False)\n",
    "        count+=1\n",
    "        \n",
    "    return temp_feature"
   ]
  },
  {
   "cell_type": "markdown",
   "metadata": {},
   "source": [
    "### FFT"
   ]
  },
  {
   "cell_type": "code",
   "execution_count": 35,
   "metadata": {},
   "outputs": [],
   "source": [
    "def get_magnitude_band(data, band_width):\n",
    "    temp_feature = pd.DataFrame()\n",
    "    def get_band(row, band_width, label):\n",
    "        fft = np.fft.fft(row)\n",
    "        magnitude = np.abs(fft)\n",
    "        return pd.Series(magnitude[1:band_width+1],index=[label + \"_\" + str(x) for x in range(1,band_width+1)])\n",
    "\n",
    "    count=0\n",
    "    for frame in data:\n",
    "        bands = frame.iloc[:,2:].apply(lambda x:get_band(x, band_width, data_names[count]), axis=1)\n",
    "        temp_feature = pd.concat([temp_feature, bands], axis=1, sort=False)\n",
    "        count+=1\n",
    "    \n",
    "    return temp_feature"
   ]
  },
  {
   "cell_type": "markdown",
   "metadata": {},
   "source": [
    "### Combine features"
   ]
  },
  {
   "cell_type": "code",
   "execution_count": 36,
   "metadata": {},
   "outputs": [
    {
     "data": {
      "text/html": [
       "<div>\n",
       "<style scoped>\n",
       "    .dataframe tbody tr th:only-of-type {\n",
       "        vertical-align: middle;\n",
       "    }\n",
       "\n",
       "    .dataframe tbody tr th {\n",
       "        vertical-align: top;\n",
       "    }\n",
       "\n",
       "    .dataframe thead th {\n",
       "        text-align: right;\n",
       "    }\n",
       "</style>\n",
       "<table border=\"1\" class=\"dataframe\">\n",
       "  <thead>\n",
       "    <tr style=\"text-align: right;\">\n",
       "      <th></th>\n",
       "      <th>Participant</th>\n",
       "      <th>Gesture</th>\n",
       "      <th>acc_x_1</th>\n",
       "      <th>acc_x_2</th>\n",
       "      <th>acc_x_3</th>\n",
       "      <th>acc_x_4</th>\n",
       "      <th>acc_x_5</th>\n",
       "      <th>acc_x_6</th>\n",
       "      <th>acc_x_7</th>\n",
       "      <th>acc_x_8</th>\n",
       "      <th>...</th>\n",
       "      <th>acc_z_mean</th>\n",
       "      <th>gyr_x_mean</th>\n",
       "      <th>gyr_y_mean</th>\n",
       "      <th>gyr_z_mean</th>\n",
       "      <th>acc_x_median</th>\n",
       "      <th>acc_y_median</th>\n",
       "      <th>acc_z_median</th>\n",
       "      <th>gyr_x_median</th>\n",
       "      <th>gyr_y_median</th>\n",
       "      <th>gyr_z_median</th>\n",
       "    </tr>\n",
       "  </thead>\n",
       "  <tbody>\n",
       "    <tr>\n",
       "      <th>0</th>\n",
       "      <td>bobs1</td>\n",
       "      <td>0</td>\n",
       "      <td>0.415370</td>\n",
       "      <td>0.141621</td>\n",
       "      <td>0.354000</td>\n",
       "      <td>0.207618</td>\n",
       "      <td>0.144910</td>\n",
       "      <td>0.360604</td>\n",
       "      <td>0.761555</td>\n",
       "      <td>0.424918</td>\n",
       "      <td>...</td>\n",
       "      <td>-0.011518</td>\n",
       "      <td>0.151082</td>\n",
       "      <td>-0.049755</td>\n",
       "      <td>0.058895</td>\n",
       "      <td>-0.003490</td>\n",
       "      <td>-0.003490</td>\n",
       "      <td>-0.003490</td>\n",
       "      <td>-0.022883</td>\n",
       "      <td>-0.011255</td>\n",
       "      <td>0.000365</td>\n",
       "    </tr>\n",
       "    <tr>\n",
       "      <th>1</th>\n",
       "      <td>bobs1</td>\n",
       "      <td>1</td>\n",
       "      <td>0.467925</td>\n",
       "      <td>0.364173</td>\n",
       "      <td>0.189730</td>\n",
       "      <td>0.182268</td>\n",
       "      <td>0.520980</td>\n",
       "      <td>0.621774</td>\n",
       "      <td>0.122132</td>\n",
       "      <td>0.606170</td>\n",
       "      <td>...</td>\n",
       "      <td>0.011955</td>\n",
       "      <td>0.033986</td>\n",
       "      <td>-0.029323</td>\n",
       "      <td>-0.006534</td>\n",
       "      <td>0.007433</td>\n",
       "      <td>0.007433</td>\n",
       "      <td>0.007433</td>\n",
       "      <td>-0.028014</td>\n",
       "      <td>-0.012092</td>\n",
       "      <td>0.010112</td>\n",
       "    </tr>\n",
       "    <tr>\n",
       "      <th>2</th>\n",
       "      <td>bobs1</td>\n",
       "      <td>2</td>\n",
       "      <td>5.681338</td>\n",
       "      <td>3.779824</td>\n",
       "      <td>4.307861</td>\n",
       "      <td>3.029836</td>\n",
       "      <td>1.065532</td>\n",
       "      <td>0.363462</td>\n",
       "      <td>0.299681</td>\n",
       "      <td>0.641040</td>\n",
       "      <td>...</td>\n",
       "      <td>0.158690</td>\n",
       "      <td>0.003074</td>\n",
       "      <td>-0.002375</td>\n",
       "      <td>-0.014394</td>\n",
       "      <td>0.033878</td>\n",
       "      <td>0.033878</td>\n",
       "      <td>0.033878</td>\n",
       "      <td>-0.022332</td>\n",
       "      <td>-0.035808</td>\n",
       "      <td>-0.102876</td>\n",
       "    </tr>\n",
       "    <tr>\n",
       "      <th>3</th>\n",
       "      <td>bobs1</td>\n",
       "      <td>3</td>\n",
       "      <td>7.532442</td>\n",
       "      <td>7.069267</td>\n",
       "      <td>6.129050</td>\n",
       "      <td>5.545816</td>\n",
       "      <td>4.093905</td>\n",
       "      <td>3.846589</td>\n",
       "      <td>4.203696</td>\n",
       "      <td>2.955589</td>\n",
       "      <td>...</td>\n",
       "      <td>0.043671</td>\n",
       "      <td>-0.027944</td>\n",
       "      <td>-0.014728</td>\n",
       "      <td>-0.019624</td>\n",
       "      <td>-0.058381</td>\n",
       "      <td>-0.058381</td>\n",
       "      <td>-0.058381</td>\n",
       "      <td>-0.065149</td>\n",
       "      <td>0.002892</td>\n",
       "      <td>-0.011891</td>\n",
       "    </tr>\n",
       "    <tr>\n",
       "      <th>4</th>\n",
       "      <td>bobs1</td>\n",
       "      <td>4</td>\n",
       "      <td>3.825446</td>\n",
       "      <td>0.650613</td>\n",
       "      <td>0.641892</td>\n",
       "      <td>0.170284</td>\n",
       "      <td>1.087604</td>\n",
       "      <td>0.616231</td>\n",
       "      <td>0.813964</td>\n",
       "      <td>0.335768</td>\n",
       "      <td>...</td>\n",
       "      <td>0.063217</td>\n",
       "      <td>-0.023837</td>\n",
       "      <td>-0.029117</td>\n",
       "      <td>-0.001446</td>\n",
       "      <td>0.044398</td>\n",
       "      <td>0.044398</td>\n",
       "      <td>0.044398</td>\n",
       "      <td>0.023210</td>\n",
       "      <td>-0.023691</td>\n",
       "      <td>-0.001094</td>\n",
       "    </tr>\n",
       "  </tbody>\n",
       "</table>\n",
       "<p>5 rows × 134 columns</p>\n",
       "</div>"
      ],
      "text/plain": [
       "  Participant  Gesture   acc_x_1   acc_x_2   acc_x_3   acc_x_4   acc_x_5  \\\n",
       "0       bobs1        0  0.415370  0.141621  0.354000  0.207618  0.144910   \n",
       "1       bobs1        1  0.467925  0.364173  0.189730  0.182268  0.520980   \n",
       "2       bobs1        2  5.681338  3.779824  4.307861  3.029836  1.065532   \n",
       "3       bobs1        3  7.532442  7.069267  6.129050  5.545816  4.093905   \n",
       "4       bobs1        4  3.825446  0.650613  0.641892  0.170284  1.087604   \n",
       "\n",
       "    acc_x_6   acc_x_7   acc_x_8      ...       acc_z_mean  gyr_x_mean  \\\n",
       "0  0.360604  0.761555  0.424918      ...        -0.011518    0.151082   \n",
       "1  0.621774  0.122132  0.606170      ...         0.011955    0.033986   \n",
       "2  0.363462  0.299681  0.641040      ...         0.158690    0.003074   \n",
       "3  3.846589  4.203696  2.955589      ...         0.043671   -0.027944   \n",
       "4  0.616231  0.813964  0.335768      ...         0.063217   -0.023837   \n",
       "\n",
       "   gyr_y_mean  gyr_z_mean  acc_x_median  acc_y_median  acc_z_median  \\\n",
       "0   -0.049755    0.058895     -0.003490     -0.003490     -0.003490   \n",
       "1   -0.029323   -0.006534      0.007433      0.007433      0.007433   \n",
       "2   -0.002375   -0.014394      0.033878      0.033878      0.033878   \n",
       "3   -0.014728   -0.019624     -0.058381     -0.058381     -0.058381   \n",
       "4   -0.029117   -0.001446      0.044398      0.044398      0.044398   \n",
       "\n",
       "   gyr_x_median  gyr_y_median  gyr_z_median  \n",
       "0     -0.022883     -0.011255      0.000365  \n",
       "1     -0.028014     -0.012092      0.010112  \n",
       "2     -0.022332     -0.035808     -0.102876  \n",
       "3     -0.065149      0.002892     -0.011891  \n",
       "4      0.023210     -0.023691     -0.001094  \n",
       "\n",
       "[5 rows x 134 columns]"
      ]
     },
     "execution_count": 36,
     "metadata": {},
     "output_type": "execute_result"
    }
   ],
   "source": [
    "time_mean_feature = get_time_feature(data, np.mean)\n",
    "time_median_feature = get_time_feature(data, np.median)\n",
    "band_feature = get_magnitude_band(data, 20)\n",
    "\n",
    "features = pd.concat([data[0].iloc[:, 0:2], band_feature, time_mean_feature, time_median_feature], axis=1, sort=False)\n",
    "features.head()"
   ]
  },
  {
   "cell_type": "code",
   "execution_count": 37,
   "metadata": {},
   "outputs": [
    {
     "data": {
      "text/plain": [
       "array([ 1,  2,  3,  4,  5,  6,  7,  8,  9, 10, 11, 12, 13, 14, 15, 16, 17,\n",
       "       18, 19, 20])"
      ]
     },
     "execution_count": 37,
     "metadata": {},
     "output_type": "execute_result"
    }
   ],
   "source": [
    "plot_data = features.iloc[0,2:22]\n",
    "n = plot_data.size\n",
    "timestep = 0.02\n",
    "freq = np.arange(1, 21, 1)\n",
    "freq"
   ]
  },
  {
   "cell_type": "code",
   "execution_count": 38,
   "metadata": {},
   "outputs": [
    {
     "data": {
      "image/png": "[encoded data removed]",
      "text/plain": [
       "<Figure size 432x288 with 1 Axes>"
      ]
     },
     "metadata": {
      "needs_background": "light"
     },
     "output_type": "display_data"
    }
   ],
   "source": [
    "plt.plot(freq, plot_data)\n",
    "plt.title('Magnitude')\n",
    "\n",
    "plt.xlabel('Hz')\n",
    "plt.ylabel('amplitude')\n",
    "plt.grid(True)"
   ]
  },
  {
   "cell_type": "markdown",
   "metadata": {},
   "source": [
    "## Feature Reduction"
   ]
  },
  {
   "cell_type": "code",
   "execution_count": 39,
   "metadata": {},
   "outputs": [
    {
     "data": {
      "image/png": "[encoded data removed]",
      "text/plain": [
       "<Figure size 720x720 with 2 Axes>"
      ]
     },
     "metadata": {
      "needs_background": "light"
     },
     "output_type": "display_data"
    }
   ],
   "source": [
    "correlations = features.iloc[:, 2:].corr()\n",
    "\n",
    "# plot correlation matrix\n",
    "fig = plt.figure(figsize=(10,10))\n",
    "ax = fig.add_subplot(111)\n",
    "cax = ax.matshow(correlations, vmin=-1, vmax=1)\n",
    "fig.colorbar(cax)\n",
    "ticks = np.arange(0,len(features.iloc[:, 2:].columns),1)\n",
    "ax.set_xticks(ticks)\n",
    "ax.set_yticks(ticks)\n",
    "ax.set_xticklabels(features.iloc[:, 2:].columns)\n",
    "ax.set_yticklabels(features.iloc[:, 2:].columns)\n",
    "plt.show()"
   ]
  },
  {
   "cell_type": "code",
   "execution_count": 40,
   "metadata": {},
   "outputs": [
    {
     "name": "stdout",
     "output_type": "stream",
     "text": [
      "Dropped 59 features\n"
     ]
    }
   ],
   "source": [
    "### drop features\n",
    "# Select upper triangle of correlation matrix\n",
    "upper = correlations.where(np.triu(np.ones(correlations.shape), k=1).astype(np.bool))\n",
    "\n",
    "# Find index of feature columns with correlation greater than 0.9\n",
    "to_drop = [column for column in upper.columns if any(upper[column] > 0.9)]\n",
    "\n",
    "# Drop features\n",
    "original_length = len(features.iloc[:, 2:].columns)\n",
    "features = features.drop(to_drop, axis=1)\n",
    "print(\"Dropped {:.0f} features\".format(original_length - len(features.iloc[:, 2:].columns)))"
   ]
  },
  {
   "cell_type": "code",
   "execution_count": 41,
   "metadata": {},
   "outputs": [
    {
     "data": {
      "image/png": "[encoded data removed]",
      "text/plain": [
       "<Figure size 720x720 with 2 Axes>"
      ]
     },
     "metadata": {
      "needs_background": "light"
     },
     "output_type": "display_data"
    }
   ],
   "source": [
    "correlations = features.iloc[:, 2:].corr()\n",
    "\n",
    "# plot correlation matrix\n",
    "fig = plt.figure(figsize=(10,10))\n",
    "ax = fig.add_subplot(111)\n",
    "cax = ax.matshow(correlations, vmin=-1, vmax=1)\n",
    "fig.colorbar(cax)\n",
    "ticks = np.arange(0,len(features.iloc[0]),1)\n",
    "ax.set_xticks(ticks)\n",
    "ax.set_yticks(ticks)\n",
    "ax.set_xticklabels(features.iloc[:, 2:].columns)\n",
    "ax.set_yticklabels(features.iloc[:, 2:].columns)\n",
    "plt.show()"
   ]
  },
  {
   "cell_type": "markdown",
   "metadata": {},
   "source": [
    "## Data Partitioning"
   ]
  },
  {
   "cell_type": "code",
   "execution_count": 42,
   "metadata": {},
   "outputs": [],
   "source": [
    "X = features.iloc[:,2:].values\n",
    "y = features.iloc[:, 1].values\n",
    "\n",
    "# Splitting the dataset into the Training set and Test set (dependent)\n",
    "from sklearn.model_selection import train_test_split\n",
    "X_train, X_test, y_train, y_test = train_test_split(X, y, test_size = 0.1, random_state = 42)"
   ]
  },
  {
   "cell_type": "code",
   "execution_count": 43,
   "metadata": {},
   "outputs": [],
   "source": [
    "# Splitting the dataset into the Training set and Test set (independent)\n",
    "from sklearn.model_selection import train_test_split\n",
    "\n",
    "X_train = features.loc[features[\"Participant\"] != \"bobs1\", :].iloc[:,2:].values\n",
    "X_test = features.loc[features[\"Participant\"] == \"bobs1\", :].iloc[:,2:].values\n",
    "y_train = features.loc[features[\"Participant\"] != \"bobs1\", :].iloc[:,1].values\n",
    "y_test = features.loc[features[\"Participant\"] == \"bobs1\", :].iloc[:,1].values"
   ]
  },
  {
   "cell_type": "markdown",
   "metadata": {},
   "source": [
    "## Data Partitioning (OneClass-SVM) "
   ]
  },
  {
   "cell_type": "code",
   "execution_count": 44,
   "metadata": {},
   "outputs": [],
   "source": [
    "import random\n",
    "\n",
    "def random_data_row():\n",
    "    upper_bound = data.shape[0]\n",
    "    return random.randint(0, upper_bound - 1)\n",
    "\n",
    "def generate_invalid_gesture(batch_size):\n",
    "    # We take 5 following feature values from existing gestures\n",
    "    # And add them to the new gesture\n",
    "    new_row = {}\n",
    "    \n",
    "    source_row_nr = random_data_row()\n",
    "    n = 0\n",
    "    for col_name in list(data.columns.values):\n",
    "        if n % batch_size == 0:\n",
    "            source_row_nr = random_data_row()\n",
    "        new_row[col_name] = data.loc[source_row_nr, col_name]\n",
    "        n += 1\n",
    "    # Make sure the row is marked as invalid gesture\n",
    "    new_row['IsGesture'] = -1\n",
    "    return new_row"
   ]
  },
  {
   "cell_type": "code",
   "execution_count": 45,
   "metadata": {},
   "outputs": [
    {
     "name": "stdout",
     "output_type": "stream",
     "text": [
      "outliers.shape (60,)\n",
      "outlier fraction 0.09090909090909091\n"
     ]
    },
    {
     "data": {
      "text/plain": [
       "(528, 73)"
      ]
     },
     "execution_count": 45,
     "metadata": {},
     "output_type": "execute_result"
    }
   ],
   "source": [
    "# Get the features without labels\n",
    "data = features.iloc[:, 2:]\n",
    "# Add a \"single class\" for the one-class SVM \n",
    "# Note: All values in the dataset are valid gestures\n",
    "# and get 1 because of that. None-gesture entries would get -1\n",
    "data.loc[:, 'IsGesture'] = 1\n",
    "# Now add generated, invalid gestures as well to have negative examples\n",
    "data_rows = []\n",
    "columns = data.columns.values\n",
    "# Use as much invalid ones as valid ones\n",
    "for n in range(0, int(data.shape[0] * 0.1)):\n",
    "    new_row = generate_invalid_gesture(3)\n",
    "    data_rows.append(new_row.values())\n",
    "# Create a data frame and merge the two together\n",
    "generated_data = pd.DataFrame(data_rows, columns=columns)\n",
    "data = pd.concat([data, generated_data], axis = 0)\n",
    "# This new label is our single class target\n",
    "target = data['IsGesture']\n",
    "# Determine the outlier ratio \n",
    "outliers = target[target == -1]  \n",
    "print(\"outliers.shape\", outliers.shape)  \n",
    "print(\"outlier fraction\", outliers.shape[0]/target.shape[0])\n",
    "# Now drop the new column from the data again for unsupervised learning\n",
    "data.drop(['IsGesture'], axis=1, inplace=True)\n",
    "# And finally do the train-test split\n",
    "from sklearn.model_selection import train_test_split  \n",
    "train_data, test_data, train_target, test_target = train_test_split(data, target, train_size = 0.8, random_state = 42)  \n",
    "train_data.shape"
   ]
  },
  {
   "cell_type": "code",
   "execution_count": 46,
   "metadata": {
    "scrolled": true
   },
   "outputs": [
    {
     "data": {
      "image/png": "[encoded data removed]",
      "text/plain": [
       "<Figure size 432x288 with 1 Axes>"
      ]
     },
     "metadata": {
      "needs_background": "light"
     },
     "output_type": "display_data"
    }
   ],
   "source": [
    "from pandas.plotting import scatter_matrix\n",
    "from matplotlib.colors import ListedColormap\n",
    "\n",
    "def plot_scatter(features, gestures, feature):\n",
    "    ax = plt.subplot(1, 1, 1)\n",
    "    data = features.loc[(features[\"Gesture\"] == gestures[0]) | (features[\"Gesture\"] == gestures[1]), feature] \n",
    "    cm_bright = ListedColormap(['#FF0000', '#0000FF'])\n",
    "    classes_scatter=features.loc[(features[\"Gesture\"] == gestures[0]) | (features[\"Gesture\"] == gestures[1]), \"Gesture\"]\n",
    "    ax.scatter(data, data, c=classes_scatter, cmap=cm_bright, edgecolors='k')\n",
    "    \n",
    "plot_scatter(features, [0,9], 'gyr_x_median')"
   ]
  },
  {
   "cell_type": "markdown",
   "metadata": {},
   "source": [
    "## Models"
   ]
  },
  {
   "cell_type": "markdown",
   "metadata": {},
   "source": [
    "### One-Class SVM"
   ]
  },
  {
   "cell_type": "code",
   "execution_count": 53,
   "metadata": {},
   "outputs": [],
   "source": [
    "import sys\n",
    "from sklearn import svm\n",
    "\n",
    "def get_ocsvm(train_data, outliers = np.empty([0])):\n",
    "    # Measures how many wrong values we expect in the training data\n",
    "    nu = outliers.shape[0] / target.shape[0]\n",
    "    # Since 0 is no valid nu value, we use the smallest possible value > 0 instead\n",
    "    if nu == 0:\n",
    "        nu = sys.float_info.min\n",
    "    print(\"nu\", nu)\n",
    "\n",
    "    model = svm.OneClassSVM(nu=nu, kernel='rbf', gamma=0.00005)  \n",
    "    model.fit(train_data)  \n",
    "    return model"
   ]
  },
  {
   "cell_type": "markdown",
   "metadata": {},
   "source": [
    "### Random Forest"
   ]
  },
  {
   "cell_type": "code",
   "execution_count": 54,
   "metadata": {
    "scrolled": false
   },
   "outputs": [],
   "source": [
    "from sklearn.ensemble import RandomForestClassifier\n",
    "from sklearn.model_selection import RandomizedSearchCV\n",
    "from sklearn.model_selection import GridSearchCV\n",
    "    \n",
    "def get_rf(X_train, y_train):\n",
    "    # Number of trees in random forest\n",
    "    n_estimators = np.power(range(1,18),3)\n",
    "    # Number of features to consider at every split\n",
    "    max_features = ['auto', 'sqrt']\n",
    "    # Maximum number of levels in tree\n",
    "    max_depth = np.power(range(1,8),3)\n",
    "    # Minimum number of samples required to split a node\n",
    "    #min_samples_split = [2, 5, 10]\n",
    "    # Minimum number of samples required at each leaf node\n",
    "    #min_samples_leaf = [1, 2, 4]\n",
    "    # Method of selecting samples for training each tree\n",
    "    #bootstrap = [True, False]\n",
    "    # Create tprint(target)he random grid\n",
    "    param_grid = {\n",
    "        'n_estimators': n_estimators,\n",
    "        'max_features': max_features,\n",
    "        'max_depth': max_depth,\n",
    "        #'min_samples_split': min_samples_split,\n",
    "        #'min_samples_leaf': min_samples_leaf,\n",
    "        #'bootstrap': bootstrap\n",
    "    }\n",
    "\n",
    "    #clf_rf = RandomForestClassifier(n_estimators=100, max_depth=6, random_state=42)\n",
    "    clf_rf = RandomForestClassifier(random_state=42)\n",
    "    grid = GridSearchCV(clf_rf, param_grid=param_grid, cv=3, verbose=2, n_jobs=-1, iid=False)\n",
    "\n",
    "    grid.fit(X_train, y_train)\n",
    "    return grid"
   ]
  },
  {
   "cell_type": "markdown",
   "metadata": {},
   "source": [
    "### KNN"
   ]
  },
  {
   "cell_type": "code",
   "execution_count": 55,
   "metadata": {},
   "outputs": [],
   "source": [
    "from sklearn.neighbors import KNeighborsClassifier\n",
    "from sklearn.metrics import cohen_kappa_score, make_scorer\n",
    "\n",
    "def get_knn(X_train, y_train):\n",
    "    # Number of trees in random forest\n",
    "    n_neighbors = range(1,100)\n",
    "    param_grid = {\n",
    "        'n_neighbors': n_neighbors\n",
    "    }\n",
    "    \n",
    "    clf = KNeighborsClassifier(n_neighbors=3)\n",
    "    kappa_scorer = make_scorer(cohen_kappa_score)\n",
    "    grid = GridSearchCV(clf, param_grid=param_grid, cv=5, verbose=2, n_jobs=-1, iid=False)\n",
    "\n",
    "    grid.fit(X_train, y_train)\n",
    "    return grid"
   ]
  },
  {
   "cell_type": "code",
   "execution_count": 56,
   "metadata": {},
   "outputs": [
    {
     "name": "stdout",
     "output_type": "stream",
     "text": [
      "nu 0.09090909090909091\n",
      "OC-SVM:  OneClassSVM(cache_size=200, coef0=0.0, degree=3, gamma=5e-05, kernel='rbf',\n",
      "      max_iter=-1, nu=0.09090909090909091, random_state=None,\n",
      "      shrinking=True, tol=0.001, verbose=False)\n"
     ]
    }
   ],
   "source": [
    "# One-Class SVM\n",
    "ocsvm = get_ocsvm(train_data, outliers)\n",
    "print(\"OC-SVM: \", ocsvm)"
   ]
  },
  {
   "cell_type": "code",
   "execution_count": 57,
   "metadata": {},
   "outputs": [
    {
     "name": "stdout",
     "output_type": "stream",
     "text": [
      "Fitting 3 folds for each of 238 candidates, totalling 714 fits\n"
     ]
    },
    {
     "name": "stderr",
     "output_type": "stream",
     "text": [
      "[Parallel(n_jobs=-1)]: Using backend LokyBackend with 8 concurrent workers.\n",
      "[Parallel(n_jobs=-1)]: Done  25 tasks      | elapsed:    3.5s\n",
      "[Parallel(n_jobs=-1)]: Done 146 tasks      | elapsed:   48.5s\n",
      "[Parallel(n_jobs=-1)]: Done 349 tasks      | elapsed:  2.4min\n",
      "[Parallel(n_jobs=-1)]: Done 632 tasks      | elapsed:  4.5min\n",
      "[Parallel(n_jobs=-1)]: Done 714 out of 714 | elapsed:  5.3min finished\n"
     ]
    },
    {
     "name": "stdout",
     "output_type": "stream",
     "text": [
      "[INFO] grid search best score: 0.9010989010989011\n",
      "[INFO] grid search best parameters: {'max_depth': 27, 'max_features': 'auto', 'n_estimators': 512}\n",
      "[INFO] grid search test accuracy: 83.33%\n"
     ]
    }
   ],
   "source": [
    "# RF\n",
    "rf = get_rf(X_train, y_train)\n",
    "print(\"[INFO] grid search best score: {}\".format(rf.best_score_))\n",
    "print(\"[INFO] grid search best parameters: {}\".format(rf.best_params_))\n",
    "acc = rf.score(X_test, y_test)\n",
    "print(\"[INFO] grid search test accuracy: {:.2f}%\".format(acc * 100))"
   ]
  },
  {
   "cell_type": "code",
   "execution_count": 58,
   "metadata": {},
   "outputs": [
    {
     "name": "stdout",
     "output_type": "stream",
     "text": [
      "Fitting 5 folds for each of 99 candidates, totalling 495 fits\n"
     ]
    },
    {
     "name": "stderr",
     "output_type": "stream",
     "text": [
      "[Parallel(n_jobs=-1)]: Using backend LokyBackend with 8 concurrent workers.\n",
      "[Parallel(n_jobs=-1)]: Done 142 tasks      | elapsed:    0.9s\n"
     ]
    },
    {
     "name": "stdout",
     "output_type": "stream",
     "text": [
      "[INFO] grid search best score: 0.9208333333333334\n",
      "[INFO] grid search best parameters: {'n_neighbors': 4}\n",
      "[INFO] grid search test accuracy: 65.83%\n"
     ]
    },
    {
     "name": "stderr",
     "output_type": "stream",
     "text": [
      "[Parallel(n_jobs=-1)]: Done 495 out of 495 | elapsed:    2.6s finished\n"
     ]
    }
   ],
   "source": [
    "# KNN\n",
    "knn = get_knn(X_train, y_train)\n",
    "print(\"[INFO] grid search best score: {}\".format(knn.best_score_))\n",
    "print(\"[INFO] grid search best parameters: {}\".format(knn.best_params_))\n",
    "acc = knn.score(X_test, y_test)\n",
    "print(\"[INFO] grid search test accuracy: {:.2f}%\".format(acc * 100))"
   ]
  },
  {
   "cell_type": "markdown",
   "metadata": {},
   "source": [
    "## Test models"
   ]
  },
  {
   "cell_type": "code",
   "execution_count": 59,
   "metadata": {},
   "outputs": [
    {
     "name": "stdout",
     "output_type": "stream",
     "text": [
      "accuracy:  0.8712121212121212\n",
      "precision:  0.9309623430962343\n",
      "recall:  0.9270833333333334\n",
      "f1:  0.9290187891440501\n",
      "area under curve (auc):  0.6197916666666667\n"
     ]
    }
   ],
   "source": [
    "### One-Class SVM\n",
    "from sklearn import metrics  \n",
    "preds = ocsvm.predict(train_data)  \n",
    "targs = train_target\n",
    "\n",
    "print(\"accuracy: \", metrics.accuracy_score(targs, preds))  \n",
    "print(\"precision: \", metrics.precision_score(targs, preds))  \n",
    "print(\"recall: \", metrics.recall_score(targs, preds))  \n",
    "print(\"f1: \", metrics.f1_score(targs, preds))  \n",
    "print(\"area under curve (auc): \", metrics.roc_auc_score(targs, preds))  "
   ]
  },
  {
   "cell_type": "code",
   "execution_count": 60,
   "metadata": {},
   "outputs": [],
   "source": [
    "from sklearn.metrics import confusion_matrix"
   ]
  },
  {
   "cell_type": "code",
   "execution_count": 61,
   "metadata": {},
   "outputs": [
    {
     "data": {
      "image/png": "[encoded data removed]",
      "text/plain": [
       "<Figure size 432x288 with 2 Axes>"
      ]
     },
     "metadata": {
      "needs_background": "light"
     },
     "output_type": "display_data"
    }
   ],
   "source": [
    "### Random Forest\n",
    "rf_predicted_y = rf.predict(X_test)\n",
    "rf_cm = confusion_matrix(y_test, rf_predicted_y)\n",
    "\n",
    "plt.imshow(rf_cm, interpolation='nearest', cmap=plt.cm.Blues)\n",
    "plt.title(\"Confusion Matrix RF\")\n",
    "plt.colorbar()\n",
    "\n",
    "plt.ylabel('True label')\n",
    "plt.xlabel('Predicted label')\n",
    "plt.tight_layout()"
   ]
  },
  {
   "cell_type": "code",
   "execution_count": 62,
   "metadata": {},
   "outputs": [
    {
     "data": {
      "image/png": "[encoded data removed]",
      "text/plain": [
       "<Figure size 432x288 with 2 Axes>"
      ]
     },
     "metadata": {
      "needs_background": "light"
     },
     "output_type": "display_data"
    }
   ],
   "source": [
    "### KNN\n",
    "knn_predicted_y = knn.predict(X_test)\n",
    "knn_cm = confusion_matrix(y_test, knn_predicted_y)\n",
    "\n",
    "plt.imshow(knn_cm, interpolation='nearest', cmap=plt.cm.Blues)\n",
    "plt.title(\"Confusion Matrix KNN\")\n",
    "plt.colorbar()\n",
    "\n",
    "plt.ylabel('True label')\n",
    "plt.xlabel('Predicted label')\n",
    "plt.tight_layout()"
   ]
  },
  {
   "cell_type": "markdown",
   "metadata": {},
   "source": [
    "## Evaluate Models"
   ]
  },
  {
   "cell_type": "code",
   "execution_count": 63,
   "metadata": {},
   "outputs": [
    {
     "name": "stdout",
     "output_type": "stream",
     "text": [
      "accuracy:  0.8636363636363636\n",
      "precision:  0.9396551724137931\n",
      "recall:  0.9083333333333333\n",
      "f1:  0.9237288135593221\n",
      "area under curve (auc):  0.6624999999999999\n"
     ]
    }
   ],
   "source": [
    "### One-Class SVM\n",
    "preds = ocsvm.predict(test_data)  \n",
    "targs = test_target\n",
    "\n",
    "print(\"accuracy: \", metrics.accuracy_score(targs, preds))  \n",
    "print(\"precision: \", metrics.precision_score(targs, preds))  \n",
    "print(\"recall: \", metrics.recall_score(targs, preds))  \n",
    "print(\"f1: \", metrics.f1_score(targs, preds))  \n",
    "print(\"area under curve (auc): \", metrics.roc_auc_score(targs, preds))"
   ]
  },
  {
   "cell_type": "code",
   "execution_count": 64,
   "metadata": {},
   "outputs": [],
   "source": [
    "from sklearn.metrics import mean_squared_error, accuracy_score, classification_report, precision_score"
   ]
  },
  {
   "cell_type": "code",
   "execution_count": 65,
   "metadata": {},
   "outputs": [
    {
     "name": "stdout",
     "output_type": "stream",
     "text": [
      "              precision    recall  f1-score   support\n",
      "\n",
      "           0       1.00      1.00      1.00        10\n",
      "           1       1.00      1.00      1.00        10\n",
      "           2       0.91      1.00      0.95        10\n",
      "           3       1.00      0.70      0.82        10\n",
      "           4       1.00      0.10      0.18        10\n",
      "           5       0.41      0.90      0.56        10\n",
      "           6       0.91      1.00      0.95        10\n",
      "           7       0.91      1.00      0.95        10\n",
      "           8       0.91      1.00      0.95        10\n",
      "           9       1.00      0.90      0.95        10\n",
      "          10       0.86      0.60      0.71        10\n",
      "          11       0.80      0.80      0.80        10\n",
      "\n",
      "   micro avg       0.83      0.83      0.83       120\n",
      "   macro avg       0.89      0.83      0.82       120\n",
      "weighted avg       0.89      0.83      0.82       120\n",
      "\n",
      "Accuracy: 0.833\n",
      "MSE: 2.658\n"
     ]
    }
   ],
   "source": [
    "### Random Forest\n",
    "print(classification_report(y_test, rf_predicted_y))\n",
    "print(\"Accuracy: %.3f\" % accuracy_score(y_test, rf_predicted_y))\n",
    "print(\"MSE: %.3f\" % mean_squared_error(y_test, rf_predicted_y))"
   ]
  },
  {
   "cell_type": "code",
   "execution_count": 67,
   "metadata": {},
   "outputs": [
    {
     "name": "stdout",
     "output_type": "stream",
     "text": [
      "              precision    recall  f1-score   support\n",
      "\n",
      "           0       0.83      1.00      0.91        10\n",
      "           1       1.00      0.80      0.89        10\n",
      "           2       0.59      1.00      0.74        10\n",
      "           3       0.50      0.50      0.50        10\n",
      "           4       0.86      0.60      0.71        10\n",
      "           5       0.44      0.80      0.57        10\n",
      "           6       0.00      0.00      0.00        10\n",
      "           7       1.00      0.30      0.46        10\n",
      "           8       0.82      0.90      0.86        10\n",
      "           9       1.00      0.80      0.89        10\n",
      "          10       0.60      0.30      0.40        10\n",
      "          11       0.64      0.90      0.75        10\n",
      "\n",
      "   micro avg       0.66      0.66      0.66       120\n",
      "   macro avg       0.69      0.66      0.64       120\n",
      "weighted avg       0.69      0.66      0.64       120\n",
      "\n",
      "Accuracy: 0.658\n",
      "MSE: 3.942\n"
     ]
    }
   ],
   "source": [
    "### KNN\n",
    "print(classification_report(y_test, knn_predicted_y))\n",
    "print(\"Accuracy: %.3f\" % accuracy_score(y_test, knn_predicted_y))\n",
    "print(\"MSE: %.3f\" % mean_squared_error(y_test, knn_predicted_y))"
   ]
  },
  {
   "cell_type": "markdown",
   "metadata": {},
   "source": [
    "### Save Models"
   ]
  },
  {
   "cell_type": "code",
   "execution_count": 68,
   "metadata": {},
   "outputs": [],
   "source": [
    "import pickle\n",
    "filename = 'models/randomForest.model'\n",
    "pickle.dump(rf, open(filename, 'wb'))\n",
    "\n",
    "filename = 'models/ocsvm.model'\n",
    "pickle.dump(ocsvm, open(filename, 'wb'))"
   ]
  },
  {
   "cell_type": "code",
   "execution_count": 69,
   "metadata": {},
   "outputs": [
    {
     "ename": "ModuleNotFoundError",
     "evalue": "No module named 'coremltools'",
     "output_type": "error",
     "traceback": [
      "\u001b[1;31m---------------------------------------------------------------------------\u001b[0m",
      "\u001b[1;31mModuleNotFoundError\u001b[0m                       Traceback (most recent call last)",
      "\u001b[1;32m<ipython-input-69-aee2e6eeac12>\u001b[0m in \u001b[0;36m<module>\u001b[1;34m\u001b[0m\n\u001b[1;32m----> 1\u001b[1;33m \u001b[1;32mimport\u001b[0m \u001b[0mcoremltools\u001b[0m\u001b[1;33m\u001b[0m\u001b[1;33m\u001b[0m\u001b[0m\n\u001b[0m\u001b[0;32m      2\u001b[0m \u001b[0mcoreml_model\u001b[0m \u001b[1;33m=\u001b[0m \u001b[0mcoremltools\u001b[0m\u001b[1;33m.\u001b[0m\u001b[0mconverters\u001b[0m\u001b[1;33m.\u001b[0m\u001b[0msklearn\u001b[0m\u001b[1;33m.\u001b[0m\u001b[0mconvert\u001b[0m\u001b[1;33m(\u001b[0m\u001b[0mrf\u001b[0m\u001b[1;33m)\u001b[0m\u001b[1;33m\u001b[0m\u001b[1;33m\u001b[0m\u001b[0m\n\u001b[0;32m      3\u001b[0m \u001b[0mcoreml_model\u001b[0m\u001b[1;33m.\u001b[0m\u001b[0msave\u001b[0m\u001b[1;33m(\u001b[0m\u001b[1;34m'RandomForest.mlmodel'\u001b[0m\u001b[1;33m)\u001b[0m\u001b[1;33m\u001b[0m\u001b[1;33m\u001b[0m\u001b[0m\n\u001b[0;32m      4\u001b[0m \u001b[1;33m\u001b[0m\u001b[0m\n\u001b[0;32m      5\u001b[0m \u001b[0mcoreml_model\u001b[0m \u001b[1;33m=\u001b[0m \u001b[0mcoremltools\u001b[0m\u001b[1;33m.\u001b[0m\u001b[0mconverters\u001b[0m\u001b[1;33m.\u001b[0m\u001b[0msklearn\u001b[0m\u001b[1;33m.\u001b[0m\u001b[0mconvert\u001b[0m\u001b[1;33m(\u001b[0m\u001b[0mocsvm\u001b[0m\u001b[1;33m)\u001b[0m\u001b[1;33m\u001b[0m\u001b[1;33m\u001b[0m\u001b[0m\n",
      "\u001b[1;31mModuleNotFoundError\u001b[0m: No module named 'coremltools'"
     ]
    }
   ],
   "source": [
    "import coremltools\n",
    "coreml_model = coremltools.converters.sklearn.convert(rf)\n",
    "coreml_model.save('RandomForest.mlmodel')\n",
    "\n",
    "coreml_model = coremltools.converters.sklearn.convert(ocsvm)\n",
    "coreml_model.save('ocsvm.mlmodel')"
   ]
  },
  {
   "cell_type": "code",
   "execution_count": null,
   "metadata": {},
   "outputs": [],
   "source": []
  }
 ],
 "metadata": {
  "kernelspec": {
   "display_name": "Python 3",
   "language": "python",
   "name": "python3"
  },
  "language_info": {
   "codemirror_mode": {
    "name": "ipython",
    "version": 3
   },
   "file_extension": ".py",
   "mimetype": "text/x-python",
   "name": "python",
   "nbconvert_exporter": "python",
   "pygments_lexer": "ipython3",
   "version": "3.6.7"
  }
 },
 "nbformat": 4,
 "nbformat_minor": 1
}
